{
  "cells": [
    {
      "cell_type": "code",
      "metadata": {},
      "source": [
        "::: {.column-screen}\n",
        "![A full screen image](/mountains.JPG)\n",
        ":::"
      ],
      "id": "688adcd3",
      "execution_count": null,
      "outputs": []
    },
    {
      "cell_type": "markdown",
      "metadata": {},
      "source": [
        "**My story** starts in Sri Lanka, a small island nation in the Indian Ocean. Born and bred in this small island for more than two decades, I studied aquatic science initially. While studying aquatic science in college, I wanted to study the ocean and know more about climate change.\\\n",
        "\\\n",
        "After working for couple of years in two organizations in Sri Lanka (International Water Management Institute & International Union for Conservation of Nature), I ended up pursuing a Master's degree in the United States at School for Marine Science & Technology of UMass Dartmouth in Professor Avijit Gangopadhyay's Lab. There I studied the seasonality, variability, and survival of Gulf Stream's Warm Core Rings.\\\n",
        "\\\n",
        "After completing my MS I joined the Department of Earth & Environment of Boston University to pursue a Ph.D. under the advisement of Professor Bruce Anderson. Currently, I am in Boston conducting my dissertation research. For my doctoral thesis I investigate large-scale interactions between the Kuroshio Current and atmosphere. Apart from that I enjoy taking strolls through this beautiful city taking pictures and also hiking in New Hampshire time to time. And enjoy taking road trips exploring the continental United States.\\\n",
        "\n",
        "![](mountains.JPG)\n",
        "\n",
        "![](bridge.jpg)"
      ],
      "id": "41725ec6"
    }
  ],
  "metadata": {
    "kernelspec": {
      "display_name": "Python 3",
      "language": "python",
      "name": "python3"
    }
  },
  "nbformat": 4,
  "nbformat_minor": 5
}